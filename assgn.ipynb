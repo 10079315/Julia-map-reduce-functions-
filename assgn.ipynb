{
 "cells": [
  {
   "cell_type": "code",
   "execution_count": 56,
   "metadata": {
    "collapsed": false,
    "scrolled": true
   },
   "outputs": [
    {
     "data": {
      "text/plain": [
       "sum_multiples_3_5 (generic function with 2 methods)"
      ]
     },
     "execution_count": 56,
     "metadata": {},
     "output_type": "execute_result"
    }
   ],
   "source": [
    "#Question 1\n",
    "function   sum_multiples_3_5(N::Int)\n",
    "    sum_or = 0                                             # variable to store sum\n",
    "    for i = 1:N-1                                        # number less than N\n",
    "      if (i%3 == 0 || i%5 == 0)&&(!(i%3 == 0 && i%5 == 0)) # multiples of 3 or 5 but not multiples both of 3 and 5\n",
    "        sum_or += i\n",
    "      end\n",
    "    end\n",
    "    return sum_or                                          # return the sum\n",
    "end  \n"
   ]
  },
  {
   "cell_type": "code",
   "execution_count": 57,
   "metadata": {
    "collapsed": false,
    "scrolled": true
   },
   "outputs": [],
   "source": [
    "using Base.Test\n",
    "@test sum_multiples_3_5(20)==63\n",
    "@test sum_multiples_3_5(30)==180\n",
    "@test sum_multiples_3_5(40)==323"
   ]
  },
  {
   "cell_type": "code",
   "execution_count": 58,
   "metadata": {
    "collapsed": false
   },
   "outputs": [
    {
     "data": {
      "text/plain": [
       "pattern_count (generic function with 2 methods)"
      ]
     },
     "execution_count": 58,
     "metadata": {},
     "output_type": "execute_result"
    }
   ],
   "source": [
    "#Question 2\n",
    "function pattern_count(str::AbstractString, substr::AbstractString)\n",
    "    string_len = length(str)                    # length for the full string\n",
    "    substring_len = length(substr)              # length for the substring\n",
    "    cnt = 0                                     # variable to store pattern count\n",
    "    for i = 1:string_len-substring_len+1\n",
    "        if str[i:i+substring_len-1] == substr   # if pattern matches\n",
    "            cnt += 1\n",
    "        end\n",
    "    end\n",
    "    return cnt                                  # return pattern count\n",
    "end\n"
   ]
  },
  {
   "cell_type": "code",
   "execution_count": 59,
   "metadata": {
    "collapsed": false
   },
   "outputs": [],
   "source": [
    "using Base.Test\n",
    "@test pattern_count(\"abababa\",\"aba\")==3\n",
    "@test pattern_count(\"aaaaa\",\"aa\")==4\n",
    "@test pattern_count(\"Abcde\",\"abc\")==0"
   ]
  },
  {
   "cell_type": "code",
   "execution_count": 60,
   "metadata": {
    "collapsed": false
   },
   "outputs": [
    {
     "data": {
      "text/plain": [
       "nth_octaldrome (generic function with 2 methods)"
      ]
     },
     "execution_count": 60,
     "metadata": {},
     "output_type": "execute_result"
    }
   ],
   "source": [
    "#Question 3\n",
    "function nth_octaldrome(n::Int)\n",
    "   if n <= 0\n",
    "        return DomainError     # if n<0 give domain error\n",
    "   end    \n",
    "   cnt = 1\n",
    "   i = 1                          # start from 1 \n",
    "   while  cnt <= n\n",
    "        result = oct(i)         # transfer decimal to octal\n",
    "        if result==reverse(result)  # if the octal number is palindrome count++,i++\n",
    "          cnt += 1\n",
    "          i += 1\n",
    "        else                          # if not  palindrome only i++ \n",
    "          i += 1                 \n",
    "        end\n",
    "   end\n",
    "   return i-1                              # because last number +1 more so need to -1\n",
    "end"
   ]
  },
  {
   "cell_type": "code",
   "execution_count": 61,
   "metadata": {
    "collapsed": true
   },
   "outputs": [],
   "source": [
    "using Base.Test\n",
    "@test nth_octaldrome(9)==18\n",
    "@test nth_octaldrome(100)==2412\n",
    "@test nth_octaldrome(1000)==250479"
   ]
  },
  {
   "cell_type": "code",
   "execution_count": 62,
   "metadata": {
    "collapsed": false
   },
   "outputs": [
    {
     "data": {
      "text/plain": [
       "most_frequent_word (generic function with 1 method)"
      ]
     },
     "execution_count": 62,
     "metadata": {},
     "output_type": "execute_result"
    }
   ],
   "source": [
    "#Question 4\n",
    "function most_frequent_word(str_input::AbstractString,n::Int)\n",
    "    str_len = length(str_input)                # input string length\n",
    "    word_list =[]\n",
    "    for i = 1:str_len - n + 1                    # store every letter of input string to an array\n",
    "       push!(word_list, str_input[i:i+n-1])\n",
    "    end\n",
    "    word_freq = Dict{AbstractString,Int64}()   # use dict to store the n digit substring correspond to count of occurrence\n",
    "    for word in word_list                     \n",
    "     haskey(word_freq, word) ?\n",
    "       word_freq[word] += 1 :                  # if the substring appeared before count++\n",
    "       word_freq[word] = 1                     # else count =1\n",
    "    end\n",
    "    words = sort!(collect(keys(word_freq)))    # get each keys\n",
    "    max_freq = 1                               \n",
    "    for  word in words                         # get the most occurence of word\n",
    "      if word_freq[word] >= max_freq\n",
    "        max_freq = word_freq[word]\n",
    "      end\n",
    "    end\n",
    "    a = []                              \n",
    "    for  word in words                        # store the most frequent word into a array\n",
    "          if word_freq[word] == max_freq\n",
    "            push!(a,word)\n",
    "          end\n",
    "    end\n",
    "    return a                                 # return the most frequent word array/vector\n",
    "end"
   ]
  },
  {
   "cell_type": "code",
   "execution_count": 72,
   "metadata": {
    "collapsed": false
   },
   "outputs": [],
   "source": [
    "using Base.Test\n",
    "@test most_frequent_word(\"TCGAAGCTAGACGCTAGTAGCTAGTGTGCA\",4) == [\"CTAG\" ,\"GCTA\"]\n",
    "@test most_frequent_word(\"abcsdtabcstdabcstdsgdgabc\",3) == [\"abc\"]\n",
    "@test most_frequent_word(\"TCGAAGCTAGACGCTAGTAGCTAGTGTGCAT\",3) == [\"TAG\"]\n",
    "@test most_frequent_word(\"TTTTTTTT\",1) == [\"T\"]"
   ]
  },
  {
   "cell_type": "code",
   "execution_count": 64,
   "metadata": {
    "collapsed": false
   },
   "outputs": [
    {
     "data": {
      "text/plain": [
       "reverse_complement (generic function with 1 method)"
      ]
     },
     "execution_count": 64,
     "metadata": {},
     "output_type": "execute_result"
    }
   ],
   "source": [
    "#Question 5\n",
    "function  reverse_complement(s::AbstractString)\n",
    "  string_len = length(s)\n",
    "  rev = reverse(s)                                                      # reverse the string\n",
    "  result = []\n",
    "    str_complm = Dict( 'G' => 'C', 'C' => 'G', 'T' => 'A', 'A' => 'T' ) # construct a Dict for DNA complements\n",
    "  for i = 1:string_len\n",
    "        push!(result, str_complm[rev[i]])                                  # store the complement to an array\n",
    "  end\n",
    "  return join(result,\"\")                                                  # return the reverse complement string\n",
    "end"
   ]
  },
  {
   "cell_type": "code",
   "execution_count": 65,
   "metadata": {
    "collapsed": true
   },
   "outputs": [],
   "source": [
    "using Base.Test\n",
    "@test reverse_complement(\"CGATGCATGC\")==\"GCATGCATCG\"\n",
    "@test reverse_complement(\"ATCGTAGCGAC\")==\"GTCGCTACGAT\""
   ]
  },
  {
   "cell_type": "code",
   "execution_count": 66,
   "metadata": {
    "collapsed": false
   },
   "outputs": [
    {
     "data": {
      "text/plain": [
       "gc_content (generic function with 1 method)"
      ]
     },
     "execution_count": 66,
     "metadata": {},
     "output_type": "execute_result"
    }
   ],
   "source": [
    "#Question 6\n",
    "function gc_content(s::AbstractString)\n",
    "    gc_cnt = 0                                                                 \n",
    "    total_len = length(s)                                                        # total length of the DNA\n",
    "  for i = 1:total_len\n",
    "    if s[i]=='G'||s[i]=='C'                                                     # count the G or C number\n",
    "      gc_cnt += 1\n",
    "    end\n",
    "  end\n",
    "    return 1.000*gc_cnt/total_len                                              # return the GC content in the whole string\n",
    "end"
   ]
  },
  {
   "cell_type": "code",
   "execution_count": 67,
   "metadata": {
    "collapsed": true
   },
   "outputs": [],
   "source": [
    "using Base.Test\n",
    "@test gc_content(\"AGCTATAG\")==0.375\n",
    "@test gc_content(\"AGCTATACGG\")==0.5"
   ]
  },
  {
   "cell_type": "code",
   "execution_count": 68,
   "metadata": {
    "collapsed": false
   },
   "outputs": [
    {
     "data": {
      "text/plain": [
       "digit_distribution (generic function with 3 methods)"
      ]
     },
     "execution_count": 68,
     "metadata": {},
     "output_type": "execute_result"
    }
   ],
   "source": [
    "#Question 7\n",
    "function  digit_distribution(s::Any)\n",
    "  str =\"\"\n",
    "  for c in s\n",
    "        str = str * string(c)                                         # combine the input array to a string\n",
    "  end\n",
    "  new_str =\"\"\n",
    "  for c in str\n",
    "    if isdigit(c)\n",
    "        new_str = new_str * string(c)                                 # filter out all the characters which are not digit\n",
    "    end\n",
    "  end\n",
    "  char_array =split(new_str,\"\")\n",
    "  result_array =[]\n",
    "  for c in char_array\n",
    "        push!(result_array,parse(Int,c))                              # change the type of each digit from char to Int\n",
    "  end\n",
    "  digit_freq = Dict{Int64,Int64}()\n",
    "  for word in result_array                                             # construct the dict by using digit as the key \n",
    "      haskey(digit_freq,word) ?                                        # and the count of digit as value\n",
    "      digit_freq[word]+= 1:                                            # count ++\n",
    "      digit_freq[word] = 1                                             # if the key not occured put as 1\n",
    "  end\n",
    "  return digit_freq\n",
    "end"
   ]
  },
  {
   "cell_type": "code",
   "execution_count": 71,
   "metadata": {
    "collapsed": false
   },
   "outputs": [],
   "source": [
    "using Base.Test\n",
    "@test digit_distribution([112,24,15])==Dict( 4 => 1, 2 => 2,5 => 1,1 => 3)\n",
    "@test digit_distribution(Any[10.2,23,35])==Dict( 3 => 2, 2 => 2,5 => 1,1 => 1,0=>1)\n",
    "@test digit_distribution(Any[1.5,13,26])==Dict(1 => 2, 2 => 1,3 => 1, 5 => 1,6 => 1)"
   ]
  }
 ],
 "metadata": {
  "anaconda-cloud": {},
  "kernelspec": {
   "display_name": "Julia 0.4.6",
   "language": "julia",
   "name": "julia-0.4"
  },
  "language_info": {
   "file_extension": ".jl",
   "mimetype": "application/julia",
   "name": "julia",
   "version": "0.4.6"
  }
 },
 "nbformat": 4,
 "nbformat_minor": 0
}
